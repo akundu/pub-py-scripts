{
  "cells": [
    {
      "cell_type": "raw",
      "metadata": {
        "vscode": {
          "languageId": "raw"
        }
      },
      "source": [
        "# Stock Streak Analysis Notebook\n",
        "\n",
        "This notebook analyzes consecutive up/down day streaks following significant price moves using the shared `analyze_streaks` function from `qqq_multi_day_pattern.py`.\n",
        "\n",
        "## Setup Instructions\n",
        "\n",
        "1. **Ensure you have the required dependencies**: pandas, matplotlib, seaborn, sqlite3\n",
        "2. **Make sure the database file path is correct** in the configuration section\n",
        "3. **Run cells in order** - start with imports, then configuration, then analysis\n"
      ]
    },
    {
      "cell_type": "code",
      "execution_count": null,
      "metadata": {},
      "outputs": [
        {
          "ename": "ModuleNotFoundError",
          "evalue": "No module named 'qqq_multi_day_pattern'",
          "output_type": "error",
          "traceback": [
            "\u001b[31m---------------------------------------------------------------------------\u001b[39m",
            "\u001b[31mModuleNotFoundError\u001b[39m                       Traceback (most recent call last)",
            "\u001b[36mCell\u001b[39m\u001b[36m \u001b[39m\u001b[32mIn[1]\u001b[39m\u001b[32m, line 2\u001b[39m\n\u001b[32m      1\u001b[39m \u001b[38;5;66;03m# Import the analyze_streaks function from our shared module\u001b[39;00m\n\u001b[32m----> \u001b[39m\u001b[32m2\u001b[39m \u001b[38;5;28;01mfrom\u001b[39;00m\u001b[38;5;250m \u001b[39m\u001b[34;01mqqq_multi_day_pattern\u001b[39;00m\u001b[38;5;250m \u001b[39m\u001b[38;5;28;01mimport\u001b[39;00m analyze_streaks\n\u001b[32m      4\u001b[39m \u001b[38;5;66;03m# Import matplotlib for displaying plots in notebook\u001b[39;00m\n\u001b[32m      5\u001b[39m \u001b[38;5;28;01mimport\u001b[39;00m\u001b[38;5;250m \u001b[39m\u001b[34;01mmatplotlib\u001b[39;00m\u001b[34;01m.\u001b[39;00m\u001b[34;01mpyplot\u001b[39;00m\u001b[38;5;250m \u001b[39m\u001b[38;5;28;01mas\u001b[39;00m\u001b[38;5;250m \u001b[39m\u001b[34;01mplt\u001b[39;00m\n",
            "\u001b[31mModuleNotFoundError\u001b[39m: No module named 'qqq_multi_day_pattern'"
          ]
        }
      ],
      "source": [
        "# Import the analyze_streaks function from our shared module\n",
        "from streak_analyzer import analyze_streaks\n",
        "\n",
        "# Import matplotlib for displaying plots in notebook\n",
        "import matplotlib.pyplot as plt\n",
        "\n",
        "print(\"✅ Successfully imported analyze_streaks function from qqq_multi_day_pattern.py\")\n",
        "print(\"✅ Ready to run streak analysis!\")\n"
      ]
    },
    {
      "cell_type": "raw",
      "metadata": {
        "vscode": {
          "languageId": "raw"
        }
      },
      "source": [
        "## Configuration Parameters\n",
        "\n",
        "Modify the parameters below to customize your analysis:\n"
      ]
    },
    {
      "cell_type": "code",
      "execution_count": null,
      "metadata": {},
      "outputs": [],
      "source": [
        "# ⚠️ IMPORTANT: Update the database path below to match your system\n",
        "database_file_path = '/Users/akundu/programs/python/pythonv3/pub-py-scripts/stocks/data/stock_data.db'\n",
        "\n",
        "# Stock ticker symbol to analyze\n",
        "ticker_symbol = 'QQQ'\n",
        "\n",
        "# Percentage move threshold to trigger streak analysis (e.g., 0.01 = 1%)\n",
        "trigger_threshold = 0.01\n",
        "\n",
        "# Number of days to look back from most recent date\n",
        "# Set to None to analyze all available data\n",
        "lookback_days = 365  # Last 365 days\n",
        "\n",
        "print(f\"Configuration loaded:\")\n",
        "print(f\"  📊 Database: {database_file_path}\")\n",
        "print(f\"  🎯 Ticker: {ticker_symbol}\")\n",
        "print(f\"  📈 Threshold: {trigger_threshold*100:.1f}%\")\n",
        "print(f\"  📅 Lookback: {lookback_days} days\" if lookback_days else \"  📅 Lookback: All available data\")\n"
      ]
    },
    {
      "cell_type": "code",
      "execution_count": null,
      "metadata": {},
      "outputs": [],
      "source": [
        "# Run the streak analysis\n",
        "print(\"🔍 Starting streak analysis...\")\n",
        "print(\"=\"*50)\n",
        "\n",
        "# Call the analyze_streaks function with return_data=True to get results back\n",
        "spike_df, dip_df, plot_fig = analyze_streaks(\n",
        "    db_path=database_file_path,\n",
        "    ticker=ticker_symbol,\n",
        "    threshold=trigger_threshold,\n",
        "    lookback_days=lookback_days,\n",
        "    return_data=True  # ✅ This is KEY - tells function to return data for notebook use\n",
        ")\n",
        "\n",
        "# Check if analysis was successful\n",
        "if spike_df is not None and dip_df is not None:\n",
        "    print(\"\\n\" + \"=\"*50)\n",
        "    print(\"📊 NOTEBOOK-SPECIFIC DATA DISPLAY\")\n",
        "    print(\"=\"*50)\n",
        "else:\n",
        "    print(\"❌ Analysis failed - check your configuration and database path\")\n"
      ]
    },
    {
      "cell_type": "code",
      "execution_count": null,
      "metadata": {},
      "outputs": [],
      "source": [
        "# Display results if analysis was successful\n",
        "if spike_df is not None and dip_df is not None:\n",
        "    \n",
        "    print(f\"📈 SPIKE EVENTS - Consecutive UP days after >{trigger_threshold*100:.1f}% UP move:\")\n",
        "    display(spike_df)\n",
        "    \n",
        "    print(f\"\\n📉 DIP EVENTS - Consecutive DOWN days after >{trigger_threshold*100:.1f}% DOWN move:\")\n",
        "    display(dip_df)\n",
        "    \n",
        "    # Display the plot\n",
        "    print(f\"\\n📊 Visual Analysis:\")\n",
        "    plt.show()\n",
        "    \n",
        "    # Save the plot\n",
        "    plot_filename = f'{ticker_symbol}_streak_histograms_notebook.png'\n",
        "    plot_fig.savefig(plot_filename, dpi=300, bbox_inches='tight')\n",
        "    print(f\"\\n💾 Plot saved as: {plot_filename}\")\n",
        "    \n",
        "    # Summary statistics\n",
        "    print(f\"\\n📋 SUMMARY:\")\n",
        "    print(f\"   • Total spike events: {len(spike_df) if not spike_df.empty else 0}\")\n",
        "    print(f\"   • Total dip events: {len(dip_df) if not dip_df.empty else 0}\")\n",
        "    print(f\"   • Analysis period: {lookback_days} days\" if lookback_days else \"   • Analysis period: All available data\")\n",
        "    \n",
        "else:\n",
        "    print(\"❌ No results to display. Please check your configuration and run the analysis cell again.\")\n"
      ]
    },
    {
      "cell_type": "raw",
      "metadata": {
        "vscode": {
          "languageId": "raw"
        }
      },
      "source": [
        "## Usage Notes & Benefits\n",
        "\n",
        "### 🔗 **Code Sharing**\n",
        "- This notebook imports `analyze_streaks()` from `qqq_multi_day_pattern.py`\n",
        "- **No code duplication** - both the command-line script and this notebook use the same function\n",
        "- All improvements and bug fixes are automatically shared between both versions\n",
        "\n",
        "### 🎯 **Key Difference from Command-Line Version**\n",
        "- **Notebook**: Uses `return_data=True` to get data back for interactive analysis\n",
        "- **Command-line**: Uses `return_data=False` (default) to just print results and save plots\n",
        "\n",
        "### 📊 **Parameters You Can Modify**\n",
        "- `database_file_path`: Path to your SQLite database file\n",
        "- `ticker_symbol`: Stock ticker to analyze (e.g., 'SPY', 'QQQ', 'AAPL')\n",
        "- `trigger_threshold`: Percentage move to trigger analysis (e.g., 0.01 for 1%)\n",
        "- `lookback_days`: Number of days to analyze (None for all available data)\n",
        "\n",
        "### 🔄 **Running the Analysis**\n",
        "1. **Import cell**: Loads the shared function\n",
        "2. **Configuration cell**: Set your parameters\n",
        "3. **Analysis cell**: Runs the analysis with printed output\n",
        "4. **Results cell**: Displays DataFrames and plots\n",
        "\n",
        "### 💡 **Tips**\n",
        "- Make sure to select **Python 3** kernel when running this notebook\n",
        "- The function will print progress and results to the output\n",
        "- DataFrames are displayed using `display()` for better formatting\n",
        "- Plots are saved with high resolution (300 DPI) for publications\n",
        "\n",
        "### 🐛 **Troubleshooting**\n",
        "- **ImportError**: Make sure `qqq_multi_day_pattern.py` is in the same directory\n",
        "- **Database not found**: Update `database_file_path` to the correct absolute path\n",
        "- **No data found**: Check that the ticker symbol exists in your database\n"
      ]
    }
  ],
  "metadata": {
    "language_info": {
      "name": "python"
    }
  },
  "nbformat": 4,
  "nbformat_minor": 2
}
