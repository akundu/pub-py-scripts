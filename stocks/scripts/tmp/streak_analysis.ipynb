{
  "cells": [
    {
      "cell_type": "raw",
      "metadata": {
        "vscode": {
          "languageId": "raw"
        }
      },
      "source": [
        "# Stock Streak Analysis Notebook\n",
        "\n",
        "This notebook analyzes consecutive up/down day streaks following significant price moves using the shared `analyze_streaks` function from `streak_analyzer.py`.\n",
        "\n",
        "## Setup Instructions\n",
        "\n",
        "1. **Ensure you have the required dependencies**: pandas, matplotlib, seaborn, sqlite3, numpy\n",
        "2. **Make sure the database file path is correct** in the configuration section\n",
        "3. **Run cells in order** - start with imports, then configuration, then analysis\n"
      ]
    },
    {
      "cell_type": "code",
      "execution_count": null,
      "metadata": {},
      "outputs": [
        {
          "name": "stdout",
          "output_type": "stream",
          "text": [
            "✅ Successfully imported analyze_streaks function from qqq_multi_day_pattern.py\n",
            "✅ Ready to run streak analysis!\n"
          ]
        }
      ],
      "source": [
        "# Import the analyze_streaks function from our shared module\n",
        "from streak_analyzer import analyze_streaks\n",
        "\n",
        "# Import matplotlib for displaying plots in notebook\n",
        "import matplotlib.pyplot as plt\n",
        "\n",
        "print(\"✅ Successfully imported analyze_streaks function from streak_analyzer.py\")\n",
        "print(\"✅ Ready to run streak analysis!\")\n"
      ]
    },
    {
      "cell_type": "raw",
      "metadata": {
        "vscode": {
          "languageId": "raw"
        }
      },
      "source": [
        "## Configuration Parameters\n",
        "\n",
        "Modify the parameters below to customize your analysis:\n"
      ]
    },
    {
      "cell_type": "code",
      "execution_count": null,
      "metadata": {},
      "outputs": [
        {
          "name": "stdout",
          "output_type": "stream",
          "text": [
            "Configuration loaded:\n",
            "  📊 Database: /Users/akundu/programs/python/pythonv3/pub-py-scripts/stocks/data/stock_data.db\n",
            "  🎯 Ticker: QQQ\n",
            "  📈 Threshold: 1.0%\n",
            "  📅 Lookback: 365 days\n"
          ]
        }
      ],
      "source": [
        "# ⚠️ IMPORTANT: Update the database path below to match your system\n",
        "database_file_path = '/Users/akundu/programs/python/pythonv3/pub-py-scripts/stocks/data/stock_data.db'\n",
        "\n",
        "# Stock ticker symbol to analyze\n",
        "ticker_symbol = 'QQQ'\n",
        "\n",
        "# Percentage move threshold to trigger streak analysis (e.g., 0.01 = 1%)\n",
        "trigger_threshold = 0.01\n",
        "\n",
        "# Number of days to look back from most recent date\n",
        "# Set to None to analyze all available data\n",
        "lookback_days = 365  # Last 365 days\n",
        "\n",
        "# Enable performance analysis (shows market performance after streaks end)\n",
        "analyze_performance = True  # Set to False to skip performance analysis\n",
        "\n",
        "print(f\"Configuration loaded:\")\n",
        "print(f\"  📊 Database: {database_file_path}\")\n",
        "print(f\"  🎯 Ticker: {ticker_symbol}\")\n",
        "print(f\"  📈 Threshold: {trigger_threshold*100:.1f}%\")\n",
        "print(f\"  📅 Lookback: {lookback_days} days\" if lookback_days else \"  📅 Lookback: All available data\")\n",
        "print(f\"  🔍 Performance Analysis: {'Enabled' if analyze_performance else 'Disabled'}\")\n"
      ]
    },
    {
      "cell_type": "code",
      "execution_count": null,
      "metadata": {},
      "outputs": [
        {
          "name": "stdout",
          "output_type": "stream",
          "text": [
            "🔍 Starting streak analysis...\n",
            "==================================================\n",
            "Analyzing data from 2024-07-02 to 2025-07-02 (365 days lookback)\n",
            "--- Streak Analysis for QQQ ---\n",
            "Found 53 spike events and 45 dip events\n",
            "\n",
            "### Histogram for Consecutive UP Days After a >1% SPIKE ###\n",
            "Streak Length | Number of Occurrences\n",
            "-------------------------------------\n",
            "0             | 26\n",
            "1             | 9\n",
            "2             | 7\n",
            "3             | 5\n",
            "4             | 4\n",
            "5             | 1\n",
            "7             | 1\n",
            "\n",
            "### Histogram for Consecutive DOWN Days After a >1% DIP ###\n",
            "Streak Length | Number of Occurrences\n",
            "-------------------------------------\n",
            "0             | 27\n",
            "1             | 10\n",
            "2             | 6\n",
            "3             | 2\n",
            "\n",
            "==================================================\n",
            "📊 NOTEBOOK-SPECIFIC DATA DISPLAY\n",
            "==================================================\n"
          ]
        },
        {
          "name": "stderr",
          "output_type": "stream",
          "text": [
            "/Volumes/RAID1 NVME SSD 2TB/akundu_programs_dev/programs/python/pythonv3/pub-py-scripts/stocks/scripts/tmp/streak_analyzer.py:124: FutureWarning: \n",
            "\n",
            "Passing `palette` without assigning `hue` is deprecated and will be removed in v0.14.0. Assign the `x` variable to `hue` and set `legend=False` for the same effect.\n",
            "\n",
            "  sns.barplot(x=spike_counts.index, y=spike_counts.values, ax=axes[0], palette='Greens_d')\n",
            "/Volumes/RAID1 NVME SSD 2TB/akundu_programs_dev/programs/python/pythonv3/pub-py-scripts/stocks/scripts/tmp/streak_analyzer.py:129: FutureWarning: \n",
            "\n",
            "Passing `palette` without assigning `hue` is deprecated and will be removed in v0.14.0. Assign the `x` variable to `hue` and set `legend=False` for the same effect.\n",
            "\n",
            "  sns.barplot(x=dip_counts.index, y=dip_counts.values, ax=axes[1], palette='Reds_d')\n"
          ]
        },
        {
          "data": {
            "image/png": "[encoded data removed]",
            "text/plain": [
              "<Figure size 1600x600 with 2 Axes>"
            ]
          },
          "metadata": {},
          "output_type": "display_data"
        }
      ],
      "source": [
        "# Run the streak analysis\n",
        "print(\"🔍 Starting streak analysis...\")\n",
        "print(\"=\"*50)\n",
        "\n",
        "# Call the analyze_streaks function with return_data=True to get results back\n",
        "spike_df, dip_df, plot_fig = analyze_streaks(\n",
        "    db_path=database_file_path,\n",
        "    ticker=ticker_symbol,\n",
        "    threshold=trigger_threshold,\n",
        "    lookback_days=lookback_days,\n",
        "    return_data=True,  # ✅ This is KEY - tells function to return data for notebook use\n",
        "    analyze_performance=analyze_performance  # ✅ NEW - enables performance analysis\n",
        ")\n",
        "\n",
        "# Check if analysis was successful\n",
        "if spike_df is not None and dip_df is not None:\n",
        "    print(\"\\n\" + \"=\"*50)\n",
        "    print(\"📊 NOTEBOOK-SPECIFIC DATA DISPLAY\")\n",
        "    print(\"=\"*50)\n",
        "else:\n",
        "    print(\"❌ Analysis failed - check your configuration and database path\")\n"
      ]
    },
    {
      "cell_type": "code",
      "execution_count": 4,
      "metadata": {},
      "outputs": [
        {
          "name": "stdout",
          "output_type": "stream",
          "text": [
            "📈 SPIKE EVENTS - Consecutive UP days after >1.0% UP move:\n"
          ]
        },
        {
          "data": {
            "text/html": [
              "<div>\n",
              "<style scoped>\n",
              "    .dataframe tbody tr th:only-of-type {\n",
              "        vertical-align: middle;\n",
              "    }\n",
              "\n",
              "    .dataframe tbody tr th {\n",
              "        vertical-align: top;\n",
              "    }\n",
              "\n",
              "    .dataframe thead th {\n",
              "        text-align: right;\n",
              "    }\n",
              "</style>\n",
              "<table border=\"1\" class=\"dataframe\">\n",
              "  <thead>\n",
              "    <tr style=\"text-align: right;\">\n",
              "      <th></th>\n",
              "      <th>Streak Length</th>\n",
              "      <th>Number of Occurrences</th>\n",
              "    </tr>\n",
              "  </thead>\n",
              "  <tbody>\n",
              "    <tr>\n",
              "      <th>0</th>\n",
              "      <td>0</td>\n",
              "      <td>26</td>\n",
              "    </tr>\n",
              "    <tr>\n",
              "      <th>1</th>\n",
              "      <td>1</td>\n",
              "      <td>9</td>\n",
              "    </tr>\n",
              "    <tr>\n",
              "      <th>2</th>\n",
              "      <td>2</td>\n",
              "      <td>7</td>\n",
              "    </tr>\n",
              "    <tr>\n",
              "      <th>3</th>\n",
              "      <td>3</td>\n",
              "      <td>5</td>\n",
              "    </tr>\n",
              "    <tr>\n",
              "      <th>4</th>\n",
              "      <td>4</td>\n",
              "      <td>4</td>\n",
              "    </tr>\n",
              "    <tr>\n",
              "      <th>5</th>\n",
              "      <td>5</td>\n",
              "      <td>1</td>\n",
              "    </tr>\n",
              "    <tr>\n",
              "      <th>6</th>\n",
              "      <td>7</td>\n",
              "      <td>1</td>\n",
              "    </tr>\n",
              "  </tbody>\n",
              "</table>\n",
              "</div>"
            ],
            "text/plain": [
              "   Streak Length  Number of Occurrences\n",
              "0              0                     26\n",
              "1              1                      9\n",
              "2              2                      7\n",
              "3              3                      5\n",
              "4              4                      4\n",
              "5              5                      1\n",
              "6              7                      1"
            ]
          },
          "metadata": {},
          "output_type": "display_data"
        },
        {
          "name": "stdout",
          "output_type": "stream",
          "text": [
            "\n",
            "📉 DIP EVENTS - Consecutive DOWN days after >1.0% DOWN move:\n"
          ]
        },
        {
          "data": {
            "text/html": [
              "<div>\n",
              "<style scoped>\n",
              "    .dataframe tbody tr th:only-of-type {\n",
              "        vertical-align: middle;\n",
              "    }\n",
              "\n",
              "    .dataframe tbody tr th {\n",
              "        vertical-align: top;\n",
              "    }\n",
              "\n",
              "    .dataframe thead th {\n",
              "        text-align: right;\n",
              "    }\n",
              "</style>\n",
              "<table border=\"1\" class=\"dataframe\">\n",
              "  <thead>\n",
              "    <tr style=\"text-align: right;\">\n",
              "      <th></th>\n",
              "      <th>Streak Length</th>\n",
              "      <th>Number of Occurrences</th>\n",
              "    </tr>\n",
              "  </thead>\n",
              "  <tbody>\n",
              "    <tr>\n",
              "      <th>0</th>\n",
              "      <td>0</td>\n",
              "      <td>27</td>\n",
              "    </tr>\n",
              "    <tr>\n",
              "      <th>1</th>\n",
              "      <td>1</td>\n",
              "      <td>10</td>\n",
              "    </tr>\n",
              "    <tr>\n",
              "      <th>2</th>\n",
              "      <td>2</td>\n",
              "      <td>6</td>\n",
              "    </tr>\n",
              "    <tr>\n",
              "      <th>3</th>\n",
              "      <td>3</td>\n",
              "      <td>2</td>\n",
              "    </tr>\n",
              "  </tbody>\n",
              "</table>\n",
              "</div>"
            ],
            "text/plain": [
              "   Streak Length  Number of Occurrences\n",
              "0              0                     27\n",
              "1              1                     10\n",
              "2              2                      6\n",
              "3              3                      2"
            ]
          },
          "metadata": {},
          "output_type": "display_data"
        },
        {
          "name": "stdout",
          "output_type": "stream",
          "text": [
            "\n",
            "📊 Visual Analysis:\n",
            "\n",
            "💾 Plot saved as: QQQ_streak_histograms_notebook.png\n",
            "\n",
            "📋 SUMMARY:\n",
            "   • Total spike events: 7\n",
            "   • Total dip events: 4\n",
            "   • Analysis period: 365 days\n"
          ]
        }
      ],
      "source": [
        "# Display results if analysis was successful\n",
        "if spike_df is not None and dip_df is not None:\n",
        "    \n",
        "    print(f\"📈 SPIKE EVENTS - Consecutive UP days after >{trigger_threshold*100:.1f}% UP move:\")\n",
        "    display(spike_df)\n",
        "    \n",
        "    print(f\"\\n📉 DIP EVENTS - Consecutive DOWN days after >{trigger_threshold*100:.1f}% DOWN move:\")\n",
        "    display(dip_df)\n",
        "    \n",
        "    # Display the plot\n",
        "    print(f\"\\n📊 Visual Analysis:\")\n",
        "    plt.show()\n",
        "    \n",
        "    # Save the plot\n",
        "    plot_filename = f'{ticker_symbol}_streak_histograms_notebook.png'\n",
        "    plot_fig.savefig(plot_filename, dpi=300, bbox_inches='tight')\n",
        "    print(f\"\\n💾 Plot saved as: {plot_filename}\")\n",
        "    \n",
        "    # Summary statistics\n",
        "    print(f\"\\n📋 SUMMARY:\")\n",
        "    print(f\"   • Total spike events: {len(spike_df) if not spike_df.empty else 0}\")\n",
        "    print(f\"   • Total dip events: {len(dip_df) if not dip_df.empty else 0}\")\n",
        "    print(f\"   • Analysis period: {lookback_days} days\" if lookback_days else \"   • Analysis period: All available data\")\n",
        "    \n",
        "else:\n",
        "    print(\"❌ No results to display. Please check your configuration and run the analysis cell again.\")\n"
      ]
    },
    {
      "cell_type": "raw",
      "metadata": {
        "vscode": {
          "languageId": "raw"
        }
      },
      "source": [
        "## Usage Notes & Benefits\n",
        "\n",
        "### 🔗 **Code Sharing**\n",
        "- This notebook imports `analyze_streaks()` from `streak_analyzer.py`\n",
        "- **No code duplication** - both the command-line script and this notebook use the same function\n",
        "- All improvements and bug fixes are automatically shared between both versions\n",
        "\n",
        "### 🎯 **Key Difference from Command-Line Version**\n",
        "- **Notebook**: Uses `return_data=True` to get data back for interactive analysis\n",
        "- **Command-line**: Uses `return_data=False` (default) to just print results and save plots\n",
        "\n",
        "### 📊 **Parameters You Can Modify**\n",
        "- `database_file_path`: Path to your SQLite database file\n",
        "- `ticker_symbol`: Stock ticker to analyze (e.g., 'SPY', 'QQQ', 'AAPL')\n",
        "- `trigger_threshold`: Percentage move to trigger analysis (e.g., 0.01 for 1%)\n",
        "- `lookback_days`: Number of days to analyze (None for all available data)\n",
        "- `analyze_performance`: Enable/disable market performance analysis after streaks end\n",
        "\n",
        "### 🆕 **NEW: Performance Analysis Feature**\n",
        "When `analyze_performance=True`, the tool analyzes market performance after each streak ends:\n",
        "- **1 Week**: Average performance 1 week after streak ends\n",
        "- **2 Weeks**: Average performance 2 weeks after streak ends  \n",
        "- **1 Month**: Average performance 1 month after streak ends\n",
        "- **2 Months**: Average performance 2 months after streak ends\n",
        "- **3 Months**: Average performance 3 months after streak ends\n",
        "\n",
        "Results are grouped by streak length, showing averages for each time period.\n",
        "\n",
        "### 🔄 **Running the Analysis**\n",
        "1. **Import cell**: Loads the shared function\n",
        "2. **Configuration cell**: Set your parameters\n",
        "3. **Analysis cell**: Runs the analysis with printed output\n",
        "4. **Results cell**: Displays DataFrames and plots\n",
        "\n",
        "### 💡 **Tips**\n",
        "- Make sure to select **Python 3** kernel when running this notebook\n",
        "- The function will print progress and results to the output\n",
        "- DataFrames are displayed using `display()` for better formatting\n",
        "- Plots are saved with high resolution (300 DPI) for publications\n",
        "- Performance analysis requires sufficient future data beyond streak dates\n",
        "\n",
        "### 🐛 **Troubleshooting**\n",
        "- **ImportError**: Make sure `streak_analyzer.py` is in the same directory\n",
        "- **Database not found**: Update `database_file_path` to the correct absolute path\n",
        "- **No data found**: Check that the ticker symbol exists in your database\n",
        "- **Performance analysis shows N/A**: Not enough future data available for that time period\n"
      ]
    }
  ],
  "metadata": {
    "kernelspec": {
      "display_name": ".venv",
      "language": "python",
      "name": "python3"
    },
    "language_info": {
      "name": "python",
      "version": "3.13.5"
    }
  },
  "nbformat": 4,
  "nbformat_minor": 2
}
